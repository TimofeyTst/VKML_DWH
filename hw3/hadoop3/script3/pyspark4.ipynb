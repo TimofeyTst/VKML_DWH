{
 "cells": [
  {
   "cell_type": "markdown",
   "id": "b616c55f-8727-4c07-868d-e9419b94d517",
   "metadata": {},
   "source": [
    "# pyspark4\n",
    "Работаем со spark sql"
   ]
  },
  {
   "cell_type": "code",
   "execution_count": null,
   "id": "214147f0-d221-407f-a8e9-124a58ab42cb",
   "metadata": {},
   "outputs": [],
   "source": [
    "import os\n",
    "import pyspark\n",
    "from pyspark import SparkContext, SparkConf\n",
    "from pyspark.sql import SparkSession\n",
    "\n",
    "os.environ[\"HADOOP_CONF_DIR\"]=\"/etc/hadoop/conf\"\n",
    "os.environ[\"HIVE_HOME\"]=\"/usr/lib/hive\"\n",
    "os.environ[\"METASTORE_PORT\"]=\"9083\"\n",
    "# os.environ[\"SPARK_HOME\"]=\"/usr/hdp/current/spark2-client\"\n",
    "# os.environ[\"JAVA_HOME\"]=\"/usr/java/jdk1.8.0_191/jre\"\n",
    "\n",
    "spark = pyspark.sql.SparkSession.builder\\\n",
    "    .master(\"yarn\")\\\n",
    "    .appName(\"v_alehin_pyspark4\")\\\n",
    "    .config(\"spark.executor.instances\", \"1\")\\\n",
    "    .config(\"spark.executor.memory\", \"1G\")\\\n",
    "    .config(\"spark.executor.cores\", \"2\")\\\n",
    "    .config(\"spark.dynamicAllocation.enabled\", \"false\")\\\n",
    "    .config(\"spark.dynamicAllocation.executorIdleTimeout\", \"300s\")\\\n",
    "    .config(\"spark.dynamicAllocation.maxExecutors\", \"1000\")\\\n",
    "    .config(\"spark.driver.memory\", \"1G\")\\\n",
    "    .config(\"spark.driver.maxResultSize\", \"1G\")\\\n",
    "    .config(\"spark.serializer\", \"org.apache.spark.serializer.KryoSerializer\")\\\n",
    "    .config(\"spark.kryoserializer.buffer.max\", \"1024m\")\\\n",
    "    .enableHiveSupport()\\\n",
    "    .getOrCreate()\n",
    "\n",
    "spark_context = spark.sparkContext"
   ]
  },
  {
   "cell_type": "code",
   "execution_count": null,
   "id": "411a783e-eb32-4a99-8c20-1ae108c88cbf",
   "metadata": {},
   "outputs": [],
   "source": [
    "print(\"Yarn       http://91.219.226.252:8088/cluster/scheduler\")\n",
    "print(\"Spark      http://91.219.226.252:8088/proxy/{}/stages/\".format(spark_context.applicationId))\n",
    "print(\"App info   http://91.219.226.252:8088/cluster/app/{}/\".format(spark_context.applicationId))"
   ]
  },
  {
   "cell_type": "code",
   "execution_count": null,
   "id": "04dc76e7-a26b-41d8-a4aa-853535de38ac",
   "metadata": {},
   "outputs": [],
   "source": [
    "sourceDF = (\n",
    "    spark.read\n",
    "        .option(\"header\", \"false\")\n",
    "        .option(\"sep\", \"\\t\")\n",
    "        .csv(\"/user/v.alehin/data2/ok/coreDemography\")\n",
    ")"
   ]
  },
  {
   "cell_type": "code",
   "execution_count": null,
   "id": "d98117e6-3aa6-4fef-9f5e-11751b54f181",
   "metadata": {},
   "outputs": [],
   "source": [
    "sourceDF.printSchema()"
   ]
  },
  {
   "cell_type": "code",
   "execution_count": null,
   "id": "a666f035-b396-4c9b-8f52-c763be5f426b",
   "metadata": {},
   "outputs": [],
   "source": [
    "sourceDF.show()"
   ]
  },
  {
   "cell_type": "code",
   "execution_count": null,
   "id": "09b3556a-db4f-4916-8166-a9e3da0d6560",
   "metadata": {},
   "outputs": [],
   "source": [
    "sourceDF = spark.read.table(\"v_alehin.core_demography\")"
   ]
  },
  {
   "cell_type": "code",
   "execution_count": null,
   "id": "0e7af0c0-2d5e-482a-942e-310e24f25c3f",
   "metadata": {},
   "outputs": [],
   "source": [
    "sourceDF.printSchema()"
   ]
  },
  {
   "cell_type": "code",
   "execution_count": null,
   "id": "f6a26381-e757-4b3b-9db9-b7dad8aa0db3",
   "metadata": {},
   "outputs": [],
   "source": [
    "spark.sql(\"\"\"\n",
    "SELECT \n",
    "    month(from_unixtime(birth_date * 24 * 3600)) AS month,\n",
    "    count(1) as cnt_per_month\n",
    "FROM v_alehin.core_demography\n",
    "GROUP BY month(from_unixtime(birth_date * 24 * 3600))\n",
    "ORDER BY month\n",
    "\"\"\").show(20, False)"
   ]
  },
  {
   "cell_type": "code",
   "execution_count": null,
   "id": "15abb776-2efe-4bbd-8edf-21834d1d99f4",
   "metadata": {},
   "outputs": [],
   "source": [
    "# После работы обязательно отключаем спарк и отдаем ресурсы!\n",
    "spark.stop()"
   ]
  },
  {
   "cell_type": "code",
   "execution_count": null,
   "id": "bf28a05d-5092-4732-aca4-61f767c545d7",
   "metadata": {},
   "outputs": [],
   "source": []
  }
 ],
 "metadata": {
  "kernelspec": {
   "display_name": "Python 3 (ipykernel)",
   "language": "python",
   "name": "python3"
  },
  "language_info": {
   "codemirror_mode": {
    "name": "ipython",
    "version": 3
   },
   "file_extension": ".py",
   "mimetype": "text/x-python",
   "name": "python",
   "nbconvert_exporter": "python",
   "pygments_lexer": "ipython3",
   "version": "3.10.13"
  }
 },
 "nbformat": 4,
 "nbformat_minor": 5
}
