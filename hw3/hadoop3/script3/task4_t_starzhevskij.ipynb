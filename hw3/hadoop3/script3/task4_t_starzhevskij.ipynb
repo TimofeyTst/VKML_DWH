{
 "cells": [
  {
   "cell_type": "code",
   "execution_count": 1,
   "metadata": {},
   "outputs": [],
   "source": [
    "# task4\n",
    "# Впишите ваш логин. Например \"vpetrov\"\n",
    "user = \"t.starzhevskij\""
   ]
  },
  {
   "cell_type": "markdown",
   "metadata": {},
   "source": [
    "# Дз было делать очень неудобно\n",
    "\n",
    "## Особенно мне очень понравилось что кластер, в один из моментов своего ресета, решил стереть мой ноутбук, который я делал ночами. Мне пришлось делать его заново, я очень злился...\n",
    "\n",
    "## Надеюсь в дальнейшем со Spark мне никогда не придется работать"
   ]
  },
  {
   "cell_type": "code",
   "execution_count": 2,
   "metadata": {},
   "outputs": [],
   "source": [
    "# В данной ячейке параметры не меняем! \n",
    "from pyspark.sql.types import *\n",
    "import pyspark.sql.functions as sf\n",
    "\n",
    "current_dt = \"2023-03-01\"\n",
    "\n",
    "demography_path = \"/user/{}/data/data3/ok/coreDemography\".format(user)\n",
    "country_path = \"/user/{}/data/data3/ok/geography/countries.csv\".format(user)\n",
    "rs_city_path = \"/user/{}/data/data3/ok/geography/rs_city.csv\".format(user)\n",
    "\n",
    "# Путь до результата\n",
    "output_path = \"/user/{}/task4\".format(user)"
   ]
  },
  {
   "cell_type": "code",
   "execution_count": 3,
   "metadata": {},
   "outputs": [],
   "source": [
    "# Ваш код пишите ниже. Ячейки можно добавлять"
   ]
  },
  {
   "cell_type": "code",
   "execution_count": 4,
   "metadata": {},
   "outputs": [],
   "source": [
    "city_path = \"/user/{}/data/data3/rosstat/city.csv\".format(user)\n",
    "product_path = \"/user/{}/data/data3/rosstat/product.csv\".format(user)\n",
    "prices_path = \"/user/{}/data/data3/rosstat/price/*\".format(user)\n",
    "products_for_stat_path = \"/user/{}/data/data3/rosstat/products_for_stat.csv\".format(user)"
   ]
  },
  {
   "cell_type": "code",
   "execution_count": 32,
   "metadata": {},
   "outputs": [
    {
     "name": "stderr",
     "output_type": "stream",
     "text": [
      "24/04/20 18:30:36 WARN Client: Neither spark.yarn.jars nor spark.yarn.archive is set, falling back to uploading libraries under SPARK_HOME.\n"
     ]
    }
   ],
   "source": [
    "import os\n",
    "import pyspark\n",
    "from pyspark import SparkContext, SparkConf\n",
    "from pyspark.sql import SparkSession\n",
    "\n",
    "os.environ[\"HADOOP_CONF_DIR\"]=\"/etc/hadoop/conf\"\n",
    "os.environ[\"HIVE_HOME\"]=\"/usr/lib/hive\"\n",
    "os.environ[\"METASTORE_PORT\"]=\"9083\"\n",
    "# os.environ[\"SPARK_HOME\"]=\"/usr/hdp/current/spark2-client\"\n",
    "# os.environ[\"JAVA_HOME\"]=\"/usr/java/jdk1.8.0_191/jre\"\n",
    "\n",
    "spark = pyspark.sql.SparkSession.builder\\\n",
    "    .master(\"yarn\")\\\n",
    "    .appName(\"t_starzhevsky\")\\\n",
    "    .config(\"spark.executor.instances\", \"1\")\\\n",
    "    .config(\"spark.executor.memory\", \"1G\")\\\n",
    "    .config(\"spark.executor.cores\", \"2\")\\\n",
    "    .config(\"spark.dynamicAllocation.enabled\", \"false\")\\\n",
    "    .config(\"spark.dynamicAllocation.executorIdleTimeout\", \"300s\")\\\n",
    "    .config(\"spark.dynamicAllocation.maxExecutors\", \"1000\")\\\n",
    "    .config(\"spark.driver.memory\", \"1G\")\\\n",
    "    .config(\"spark.driver.maxResultSize\", \"1G\")\\\n",
    "    .config(\"spark.serializer\", \"org.apache.spark.serializer.KryoSerializer\")\\\n",
    "    .config(\"spark.kryoserializer.buffer.max\", \"1024m\")\\\n",
    "    .enableHiveSupport()\\\n",
    "    .getOrCreate()\n",
    "\n",
    "spark_context = spark.sparkContext"
   ]
  },
  {
   "cell_type": "code",
   "execution_count": 6,
   "metadata": {},
   "outputs": [
    {
     "name": "stdout",
     "output_type": "stream",
     "text": [
      "\n",
      "Urls:\n",
      "Yarn       http://91.219.226.252:8088/cluster/scheduler\n",
      "Spark      http://91.219.226.252:8088/proxy/application_1713527372500_0171/stages/\n",
      "App info   http://91.219.226.252:8088/cluster/app/application_1713527372500_0171/\n",
      "\n"
     ]
    }
   ],
   "source": [
    "print(\"\"\"\n",
    "Urls:\n",
    "Yarn       http://91.219.226.252:8088/cluster/scheduler\n",
    "Spark      http://91.219.226.252:8088/proxy/{app_id}/stages/\n",
    "App info   http://91.219.226.252:8088/cluster/app/{app_id}/\n",
    "\"\"\".format(app_id=spark_context.applicationId))"
   ]
  },
  {
   "cell_type": "code",
   "execution_count": 7,
   "metadata": {},
   "outputs": [
    {
     "name": "stdout",
     "output_type": "stream",
     "text": [
      "Found 3 items\n",
      "-rw-r--r--   3 t.starzhevskij hadoop       6148 2024-04-14 20:09 /user/t.starzhevskij/data/data3/.DS_Store\n",
      "drwxr-xr-x   - t.starzhevskij hadoop          0 2024-04-14 20:09 /user/t.starzhevskij/data/data3/ok\n",
      "drwxr-xr-x   - t.starzhevskij hadoop          0 2024-04-14 20:09 /user/t.starzhevskij/data/data3/rosstat\n"
     ]
    }
   ],
   "source": [
    "!hdfs dfs -ls /user/t.starzhevskij/data/data3"
   ]
  },
  {
   "cell_type": "code",
   "execution_count": 8,
   "metadata": {},
   "outputs": [
    {
     "name": "stdout",
     "output_type": "stream",
     "text": [
      "Описание полей:\n",
      "id - id пользователя\n",
      "create_date - дата создания профиля\n",
      "birth_date - дата рождения (unixtime / (24*60*60))\n",
      "gender - пол (2 - женщина, 1 - мужчина)\n",
      "id_country - id страны\n",
      "id_location - id местоположения\n",
      "login_region - номер региона"
     ]
    }
   ],
   "source": [
    "!hdfs dfs -cat /user/t.starzhevskij/data/data3/ok/info.txt"
   ]
  },
  {
   "cell_type": "markdown",
   "metadata": {},
   "source": [
    "# Задание"
   ]
  },
  {
   "cell_type": "markdown",
   "metadata": {},
   "source": [
    "## Необходимо собрать статистику для товаров из products_for_stat.csv (и только для товаров из этого файла!).\n",
    "> Все результаты сохранять в hdfs\n",
    "\n",
    "### 1. Для предложенных товаров необходимо вычислить минимальную, максимальную и среднюю цену по всем городам.\n",
    "#### Файл price_stat\n",
    "- product_id\n",
    "- min_price\n",
    "- max_price\n",
    "- price_avg\n",
    "\n",
    "### 2. Из набора данных ОК следует для всех пользователей из городов, цена на товары в которых выше средней, собрать статистику, которая будет содержать:\n",
    "#### Файл ok_dem\n",
    "- city_name название города\n",
    "- user_cnt число пользователей из этого города\n",
    "- age_avg средний возраст пользователей\n",
    "- men_cnt число пользователей мужчин\n",
    "- women_cnt число пользователей женщин\n",
    "- men_share доля мужчин\n",
    "- women_share доля женщин (датасет ok_dem)\n",
    "\n",
    "### 3. Из полученного датасета нужно будет выбрать города с\n",
    "- максимальным и минимальным средним возрастом\n",
    "- максимальной долей мужчин\n",
    "- максимальной долей женщин\n",
    "\n",
    "### 4. Для этих городов в данных Росстат нужно будет выбрать:\n",
    "#### Файл product_stat\n",
    "- city_name\n",
    "- cheapest_product_name самый дешевый товар\n",
    "- most_expensive_product_name самый дорогой товар\n",
    "- price_difference разницу в цене между самым дорогим и самым дешевым"
   ]
  },
  {
   "cell_type": "markdown",
   "metadata": {},
   "source": [
    "### Требования к решению:\n",
    "- При желании можно реализовать шаги на MapReduce, но как минимум один из шагов должен быть раелизован на Spark\n",
    "- При вычислении возраста пользователей будем вычислять его для фиксированной даты current_dt. Параметр current_dt будем считать равным {current_dt}\n",
    "- Разделитель в итоговых файлах с данными - точка с запятой (;)\n",
    "- Все вещественные числа должны быть округлены до 2 знаков после запятой.\n",
    "- Результаты пишем в директорию на hdfs {output_path}. Если вам потребуется сохранять промежуточные результаты или предподготовленные наборы данных предлагается сохранять их в поддиректории {output_path}/stage с осмысленным названием.\n"
   ]
  },
  {
   "cell_type": "markdown",
   "metadata": {},
   "source": [
    "### Описание сырых данных (rosstat в data3.zip):\n",
    "1. city.csv - справочник городов (city[string], city_id[int])\n",
    "2. product.csv - справочник товаров и услуг (product[string], product_id[int])\n",
    "3. /price - данные по ценам на товары в разных городах (city_id[int], product_id[int], price[float])\n",
    "4. products_for_stat.csv - идентификаторы товаров для которых нужно собрать статистику (product_id[int]).\n",
    "\n",
    "### Описание сырых данных (ok в hadoop3.zip).\n",
    "1. coreDemography - данные демографии пользователей (user_id, create_date, birth_date (число дней с 1970-01-01), gender, id_country, id_city, login_region)\n",
    "2. Справочник стран geography/countries.csv (name,id)\n",
    "3. Справочник соответствия городов ОК - Росстат geography/rs_city.csv (ok_city_id, rs_city_id)\n"
   ]
  },
  {
   "cell_type": "markdown",
   "metadata": {},
   "source": [
    "# Решение"
   ]
  },
  {
   "cell_type": "markdown",
   "metadata": {},
   "source": [
    "### 1. Для предложенных товаров необходимо вычислить минимальную, максимальную и среднюю цену по всем городам.\n",
    "#### Файл price_stat\n",
    "- product_id\n",
    "- min_price\n",
    "- max_price\n",
    "- price_avg"
   ]
  },
  {
   "cell_type": "code",
   "execution_count": 9,
   "metadata": {},
   "outputs": [],
   "source": [
    "from pyspark.sql.types import *\n",
    "import pyspark.sql.functions as sf"
   ]
  },
  {
   "cell_type": "code",
   "execution_count": 10,
   "metadata": {},
   "outputs": [],
   "source": [
    "from pyspark.sql import types"
   ]
  },
  {
   "cell_type": "code",
   "execution_count": 40,
   "metadata": {},
   "outputs": [],
   "source": [
    "cities_df = (\n",
    "    spark.read\n",
    "        .option(\"header\", \"false\")\n",
    "        .option(\"sep\", \";\")\n",
    "        .csv(city_path)\n",
    ")\n",
    "\n",
    "products_df = (\n",
    "    spark.read\n",
    "        .option(\"header\", \"false\")\n",
    "        .option(\"sep\", \";\")\n",
    "        .csv(product_path)\n",
    ")\n",
    "\n",
    "prices_df = (\n",
    "    spark.read\n",
    "        .option(\"header\", \"false\")\n",
    "        .option(\"sep\", \";\")\n",
    "        .csv(prices_path)\n",
    ")\n",
    "\n",
    "products_for_stat_df = (\n",
    "    spark.read\n",
    "        .option(\"header\", \"false\")\n",
    "        .option(\"sep\", \";\")\n",
    "        .csv(products_for_stat_path)\n",
    ")"
   ]
  },
  {
   "cell_type": "code",
   "execution_count": 12,
   "metadata": {},
   "outputs": [],
   "source": [
    "def show_schema(df):\n",
    "    df.printSchema()\n",
    "    print(f\"Total rows: {df.count()}\")\n",
    "    df.show(3)"
   ]
  },
  {
   "cell_type": "code",
   "execution_count": 41,
   "metadata": {},
   "outputs": [
    {
     "name": "stdout",
     "output_type": "stream",
     "text": [
      "root\n",
      " |-- _c0: string (nullable = true)\n",
      " |-- _c1: string (nullable = true)\n",
      "\n",
      "Total rows: 284\n",
      "+------------+---+\n",
      "|         _c0|_c1|\n",
      "+------------+---+\n",
      "|    Белгород|  1|\n",
      "|      Губкин|  2|\n",
      "|Старый Оскол|  3|\n",
      "+------------+---+\n",
      "only showing top 3 rows\n",
      "\n",
      "root\n",
      " |-- _c0: string (nullable = true)\n",
      " |-- _c1: string (nullable = true)\n",
      "\n",
      "Total rows: 514\n",
      "+--------------------+---+\n",
      "|                 _c0|_c1|\n",
      "+--------------------+---+\n",
      "|     Фарш мясной, кг|  1|\n",
      "|Пельмени, манты, ...|  2|\n",
      "|  Печень говяжья, кг|  3|\n",
      "+--------------------+---+\n",
      "only showing top 3 rows\n",
      "\n",
      "root\n",
      " |-- _c0: string (nullable = true)\n",
      " |-- _c1: string (nullable = true)\n",
      " |-- _c2: string (nullable = true)\n",
      "\n",
      "Total rows: 145976\n",
      "+---+---+------+\n",
      "|_c0|_c1|   _c2|\n",
      "+---+---+------+\n",
      "|193|437|529,38|\n",
      "|126| 34|684,46|\n",
      "|274|416|  NULL|\n",
      "+---+---+------+\n",
      "only showing top 3 rows\n",
      "\n",
      "root\n",
      " |-- _c0: string (nullable = true)\n",
      "\n",
      "Total rows: 464\n",
      "+---+\n",
      "|_c0|\n",
      "+---+\n",
      "|355|\n",
      "|446|\n",
      "|114|\n",
      "+---+\n",
      "only showing top 3 rows\n",
      "\n"
     ]
    }
   ],
   "source": [
    "show_schema(cities_df)\n",
    "show_schema(products_df)\n",
    "show_schema(prices_df)\n",
    "show_schema(products_for_stat_df)"
   ]
  },
  {
   "cell_type": "code",
   "execution_count": 42,
   "metadata": {},
   "outputs": [],
   "source": [
    "# Приводим типы и задаем названия полей.\n",
    "cities_df = (\n",
    "    cities_df\n",
    "    .select(\n",
    "        sf.col(\"_c0\").alias(\"city\"),\n",
    "        sf.col(\"_c1\").cast(IntegerType()).alias(\"city_id\")\n",
    "    )\n",
    ")\n",
    "\n",
    "products_df = (\n",
    "    products_df\n",
    "    .select(\n",
    "        sf.col(\"_c0\").alias(\"product\"),\n",
    "        sf.col(\"_c1\").cast(IntegerType()).alias(\"product_id\")\n",
    "    )\n",
    ")\n",
    "\n",
    "prices_df = (\n",
    "    prices_df\n",
    "    .select(\n",
    "        sf.col(\"_c0\").cast(IntegerType()).alias(\"city_id\"),\n",
    "        sf.col(\"_c1\").cast(IntegerType()).alias(\"product_id\"),\n",
    "        # sf.replace(sf.col(\"_c2\"), \",\", \".\").cast(DoubleType()).alias(\"price\")\n",
    "        sf.regexp_replace(\n",
    "                    sf.col(\"_c2\"), \n",
    "                    \",\",\n",
    "                    \".\").cast(types.FloatType()).alias(\"price\")\n",
    "    )\n",
    ")\n",
    "\n",
    "products_for_stat_df = (\n",
    "    products_for_stat_df\n",
    "    .select(\n",
    "        sf.col(\"_c0\").cast(IntegerType()).alias(\"product_id\")\n",
    "    )\n",
    ")"
   ]
  },
  {
   "cell_type": "code",
   "execution_count": 43,
   "metadata": {},
   "outputs": [
    {
     "name": "stdout",
     "output_type": "stream",
     "text": [
      "root\n",
      " |-- city: string (nullable = true)\n",
      " |-- city_id: integer (nullable = true)\n",
      "\n",
      "Total rows: 284\n",
      "+------------+-------+\n",
      "|        city|city_id|\n",
      "+------------+-------+\n",
      "|    Белгород|      1|\n",
      "|      Губкин|      2|\n",
      "|Старый Оскол|      3|\n",
      "+------------+-------+\n",
      "only showing top 3 rows\n",
      "\n",
      "root\n",
      " |-- product: string (nullable = true)\n",
      " |-- product_id: integer (nullable = true)\n",
      "\n",
      "Total rows: 514\n",
      "+--------------------+----------+\n",
      "|             product|product_id|\n",
      "+--------------------+----------+\n",
      "|     Фарш мясной, кг|         1|\n",
      "|Пельмени, манты, ...|         2|\n",
      "|  Печень говяжья, кг|         3|\n",
      "+--------------------+----------+\n",
      "only showing top 3 rows\n",
      "\n",
      "root\n",
      " |-- city_id: integer (nullable = true)\n",
      " |-- product_id: integer (nullable = true)\n",
      " |-- price: float (nullable = true)\n",
      "\n",
      "Total rows: 145976\n",
      "+-------+----------+------+\n",
      "|city_id|product_id| price|\n",
      "+-------+----------+------+\n",
      "|    193|       437|529.38|\n",
      "|    126|        34|684.46|\n",
      "|    274|       416|  NULL|\n",
      "+-------+----------+------+\n",
      "only showing top 3 rows\n",
      "\n",
      "root\n",
      " |-- product_id: integer (nullable = true)\n",
      "\n",
      "Total rows: 464\n",
      "+----------+\n",
      "|product_id|\n",
      "+----------+\n",
      "|       355|\n",
      "|       446|\n",
      "|       114|\n",
      "+----------+\n",
      "only showing top 3 rows\n",
      "\n"
     ]
    }
   ],
   "source": [
    "show_schema(cities_df)\n",
    "show_schema(products_df)\n",
    "show_schema(prices_df)\n",
    "show_schema(products_for_stat_df)"
   ]
  },
  {
   "cell_type": "code",
   "execution_count": 44,
   "metadata": {},
   "outputs": [],
   "source": [
    "# Статистика цен на товары по городам\n",
    "price_stat_df = (\n",
    "    products_for_stat_df\n",
    "    .join(prices_df, \"product_id\", how='inner')\n",
    "    .groupBy(prices_df.product_id)\n",
    "    .agg(\n",
    "        sf.round(sf.max(prices_df.price), 2).alias(\"max_price\"),\n",
    "        sf.round(sf.min(prices_df.price), 2).alias(\"min_price\"),\n",
    "        sf.round(sf.avg(prices_df.price), 2).alias(\"avg_price\")\n",
    "    )\n",
    "    .orderBy(sf.col(\"max_price\").desc())\n",
    ")"
   ]
  },
  {
   "cell_type": "code",
   "execution_count": 45,
   "metadata": {},
   "outputs": [
    {
     "name": "stdout",
     "output_type": "stream",
     "text": [
      "root\n",
      " |-- product_id: integer (nullable = true)\n",
      " |-- max_price: float (nullable = true)\n",
      " |-- min_price: float (nullable = true)\n",
      " |-- avg_price: double (nullable = true)\n",
      "\n",
      "Total rows: 464\n"
     ]
    },
    {
     "name": "stderr",
     "output_type": "stream",
     "text": [
      "                                                                                \r"
     ]
    },
    {
     "name": "stdout",
     "output_type": "stream",
     "text": [
      "+----------+---------+---------+----------+\n",
      "|product_id|max_price|min_price| avg_price|\n",
      "+----------+---------+---------+----------+\n",
      "|       323|1661591.2|595015.94|1008423.41|\n",
      "|       324|1319373.0| 364593.6| 623588.98|\n",
      "|       322| 750167.4|468359.28| 556312.04|\n",
      "+----------+---------+---------+----------+\n",
      "only showing top 3 rows\n",
      "\n"
     ]
    },
    {
     "data": {
      "text/plain": [
       "464"
      ]
     },
     "execution_count": 45,
     "metadata": {},
     "output_type": "execute_result"
    }
   ],
   "source": [
    "show_schema(price_stat_df)\n",
    "price_stat_df.count()"
   ]
  },
  {
   "cell_type": "markdown",
   "metadata": {},
   "source": [
    "### 2. Из набора данных ОК следует для всех пользователей из городов, цена на товары в которых выше средней, собрать статистику, которая будет содержать:\n",
    "#### Файл ok_dem\n",
    "- city_name название города\n",
    "- user_cnt число пользователей из этого города\n",
    "- age_avg средний возраст пользователей\n",
    "- men_cnt число пользователей мужчин\n",
    "- women_cnt число пользователей женщин\n",
    "- men_share доля мужчин\n",
    "- women_share доля женщин (датасет ok_dem)"
   ]
  },
  {
   "cell_type": "code",
   "execution_count": 50,
   "metadata": {},
   "outputs": [],
   "source": [
    "# (user_id, create_date, birth_date (число дней с 1970-01-01), gender, id_country, id_city, login_region)\n",
    "users_df = (\n",
    "    spark.read\n",
    "        .option(\"header\", \"false\")\n",
    "        .option(\"sep\", \"\\t\")\n",
    "        .csv(demography_path)\n",
    ")\n",
    "\n",
    "# Справочник стран geography/countries.csv (name,id)\n",
    "countries_df = (\n",
    "    spark.read\n",
    "        .option(\"header\", \"false\")\n",
    "        .option(\"sep\", \",\")\n",
    "        .csv(country_path)\n",
    ")\n",
    "\n",
    "rs_city_df = (\n",
    "    spark.read\n",
    "        .option(\"header\", \"false\")\n",
    "        .option(\"sep\", \"\\t\")\n",
    "        .csv(rs_city_path)\n",
    ")\n",
    "\n",
    "rs_city_df = (\n",
    "    rs_city_df\n",
    "    .select(\n",
    "        sf.col(\"_c0\").cast(types.IntegerType()).alias(\"ok_city_id\"),\n",
    "        sf.col(\"_c1\").cast(types.IntegerType()).alias(\"rs_city_id\"),\n",
    "    )\n",
    ")\n",
    "\n",
    "users_df = (\n",
    "    users_df\n",
    "    .select(\n",
    "        sf.col(\"_c0\").cast(types.IntegerType()).alias(\"user_id\"),\n",
    "        sf.col(\"_c1\").cast(types.LongType()).alias(\"create_date\"),\n",
    "        sf.from_unixtime(sf.col(\"_c2\") * (24 * 60 * 60)).alias('birth_date').cast(types.DateType()),\n",
    "        sf.col(\"_c2\").cast(types.LongType()).alias(\"birth_date_days\"),\n",
    "        sf.col(\"_c3\").cast(types.ShortType()).alias(\"gender\"),\n",
    "        sf.col(\"_c4\").cast(types.LongType()).alias(\"country_id\"),\n",
    "        sf.col(\"_c5\").cast(types.IntegerType()).alias(\"city_id\"),\n",
    "        sf.col(\"_c6\").cast(types.IntegerType()).alias(\"login_region\")\n",
    "    )\n",
    ")"
   ]
  },
  {
   "cell_type": "code",
   "execution_count": 51,
   "metadata": {},
   "outputs": [
    {
     "name": "stdout",
     "output_type": "stream",
     "text": [
      "+--------+-------------+----------+---------------+------+-----------+-------+------------+\n",
      "| user_id|  create_date|birth_date|birth_date_days|gender| country_id|city_id|login_region|\n",
      "+--------+-------------+----------+---------------+------+-----------+-------+------------+\n",
      "|12535722|1347135521527|2010-12-31|          14974|     1|10414533690|2215192|          27|\n",
      "|15439554|1451145302590|2010-12-26|          14969|     2|10414533690|1078547|           2|\n",
      "| 3322377|1274165239477|2010-12-24|          14967|     2|10414533690|1078547|          69|\n",
      "+--------+-------------+----------+---------------+------+-----------+-------+------------+\n",
      "only showing top 3 rows\n",
      "\n",
      "root\n",
      " |-- user_id: integer (nullable = true)\n",
      " |-- create_date: long (nullable = true)\n",
      " |-- birth_date: date (nullable = true)\n",
      " |-- birth_date_days: long (nullable = true)\n",
      " |-- gender: short (nullable = true)\n",
      " |-- country_id: long (nullable = true)\n",
      " |-- city_id: integer (nullable = true)\n",
      " |-- login_region: integer (nullable = true)\n",
      "\n",
      "Total rows: 107565\n",
      "+--------+-------------+----------+---------------+------+-----------+-------+------------+\n",
      "| user_id|  create_date|birth_date|birth_date_days|gender| country_id|city_id|login_region|\n",
      "+--------+-------------+----------+---------------+------+-----------+-------+------------+\n",
      "|16460783|1182885174073|1971-05-02|            486|     2|10414533690|1078547|          85|\n",
      "|16467391|1176953226317|1982-10-14|           4669|     2|10414533690|1384327|          85|\n",
      "|16467889|1169816093060|1988-10-14|           6861|     2|10414533690|  33438|        NULL|\n",
      "+--------+-------------+----------+---------------+------+-----------+-------+------------+\n",
      "only showing top 3 rows\n",
      "\n",
      "root\n",
      " |-- ok_city_id: integer (nullable = true)\n",
      " |-- rs_city_id: integer (nullable = true)\n",
      "\n",
      "Total rows: 284\n",
      "+----------+----------+\n",
      "|ok_city_id|rs_city_id|\n",
      "+----------+----------+\n",
      "|   1000792|         1|\n",
      "|   6190119|         2|\n",
      "|    613013|         3|\n",
      "+----------+----------+\n",
      "only showing top 3 rows\n",
      "\n",
      "root\n",
      " |-- _c0: string (nullable = true)\n",
      " |-- _c1: string (nullable = true)\n",
      "\n",
      "Total rows: 219\n",
      "+-----------+-------+\n",
      "|        _c0|    _c1|\n",
      "+-----------+-------+\n",
      "|         -1|Unknown|\n",
      "|       1041|Unknown|\n",
      "|10406779289|Unknown|\n",
      "+-----------+-------+\n",
      "only showing top 3 rows\n",
      "\n"
     ]
    }
   ],
   "source": [
    "users_df.orderBy(sf.col('birth_date').desc()).show(3)\n",
    "show_schema(users_df)\n",
    "show_schema(rs_city_df)\n",
    "show_schema(countries_df)"
   ]
  },
  {
   "cell_type": "code",
   "execution_count": 48,
   "metadata": {},
   "outputs": [
    {
     "name": "stdout",
     "output_type": "stream",
     "text": [
      "root\n",
      " |-- ok_city_id: integer (nullable = true)\n",
      " |-- rs_city_id: integer (nullable = true)\n",
      " |-- product_cnt: long (nullable = false)\n",
      "\n"
     ]
    },
    {
     "name": "stderr",
     "output_type": "stream",
     "text": [
      "                                                                                \r"
     ]
    },
    {
     "name": "stdout",
     "output_type": "stream",
     "text": [
      "Total rows: 284\n"
     ]
    },
    {
     "name": "stderr",
     "output_type": "stream",
     "text": [
      "                                                                                \r"
     ]
    },
    {
     "name": "stdout",
     "output_type": "stream",
     "text": [
      "+----------+----------+-----------+\n",
      "|ok_city_id|rs_city_id|product_cnt|\n",
      "+----------+----------+-----------+\n",
      "|    867411|       148|         77|\n",
      "|   1078547|       243|         49|\n",
      "|   1531654|        31|        242|\n",
      "+----------+----------+-----------+\n",
      "only showing top 3 rows\n",
      "\n"
     ]
    }
   ],
   "source": [
    "# Города, цена на товары в которых выше средней\n",
    "# По факту оказалось не нужным, но оставлю\n",
    "# citites_for_stat_df = (\n",
    "#     prices_df\n",
    "    \n",
    "#     .join(price_stat_df, \"product_id\")\n",
    "#     .select(\n",
    "#         prices_df.city_id,\n",
    "#         prices_df.product_id,\n",
    "#         prices_df.price,\n",
    "#         price_stat_df.avg_price\n",
    "#     )\n",
    "#     .where(prices_df.price > price_stat_df.avg_price)\n",
    "#     .orderBy(prices_df.price.desc())\n",
    "# )\n",
    "\n",
    "# Города с подсчетом количества продуктов, цены на которые выше средних\n",
    "citites_for_stat_df = (\n",
    "    prices_df\n",
    "    .join(price_stat_df, \"product_id\")\n",
    "    .where(prices_df.price > price_stat_df.avg_price)\n",
    "    .groupBy(prices_df.city_id)\n",
    "    .agg(\n",
    "        sf.count(prices_df.city_id).alias(\"product_cnt\")\n",
    "    )\n",
    "    .orderBy(sf.col(\"product_cnt\").desc())\n",
    "    .join(rs_city_df, rs_city_df.rs_city_id == prices_df.city_id)\n",
    "    .select(\n",
    "        sf.col(\"ok_city_id\"),\n",
    "        sf.col(\"rs_city_id\"),\n",
    "        sf.col(\"product_cnt\")\n",
    "    )\n",
    ")\n",
    "\n",
    "show_schema(citites_for_stat_df)"
   ]
  },
  {
   "cell_type": "code",
   "execution_count": 49,
   "metadata": {},
   "outputs": [
    {
     "name": "stdout",
     "output_type": "stream",
     "text": [
      "+----------+----------+--------+-------+-------+---------+---------+-----------+\n",
      "|ok_city_id|rs_city_id|user_cnt|age_avg|men_cnt|women_cnt|men_share|women_share|\n",
      "+----------+----------+--------+-------+-------+---------+---------+-----------+\n",
      "|    867411|       148|     177|     39|    144|       33|     0.81|       0.19|\n",
      "|   1078547|       243|   34829|     40|  26653|     8176|     0.77|       0.23|\n",
      "|   1531654|        31|      21|     46|     16|        5|     0.76|       0.24|\n",
      "|   2368818|       251|      29|     43|     24|        5|     0.83|       0.17|\n",
      "|    241372|        85|      26|     43|     18|        8|     0.69|       0.31|\n",
      "|  12141837|       137|      61|     34|     47|       14|     0.77|       0.23|\n",
      "|    684283|        65|      36|     41|     26|       10|     0.72|       0.28|\n",
      "|   2568145|       255|      48|     47|     37|       11|     0.77|       0.23|\n",
      "|   4332951|        53|      68|     43|     46|       22|     0.68|       0.32|\n",
      "|  12140731|       133|      41|     46|     27|       14|     0.66|       0.34|\n",
      "|  12238521|        78|      24|     51|     18|        6|     0.75|       0.25|\n",
      "|  12243061|       108|      24|     44|     19|        5|     0.79|       0.21|\n",
      "|   3974068|       155|     191|     39|    144|       47|     0.75|       0.25|\n",
      "|    364123|        34|     145|     42|     99|       46|     0.68|       0.32|\n",
      "|   5176952|       193|      38|     37|     30|        8|     0.79|       0.21|\n",
      "|   3996003|       211|     539|     41|    474|       65|     0.88|       0.12|\n",
      "|  12146263|       115|      26|     41|     16|       10|     0.62|       0.38|\n",
      "|  12141538|       126|      19|     42|     14|        5|     0.74|       0.26|\n",
      "|   1024257|       101|      26|     44|     18|        8|     0.69|       0.31|\n",
      "|   1363646|        81|      23|     39|     14|        9|     0.61|       0.39|\n",
      "+----------+----------+--------+-------+-------+---------+---------+-----------+\n",
      "only showing top 20 rows\n",
      "\n",
      "root\n",
      " |-- ok_city_id: integer (nullable = true)\n",
      " |-- rs_city_id: integer (nullable = true)\n",
      " |-- user_cnt: long (nullable = false)\n",
      " |-- age_avg: long (nullable = true)\n",
      " |-- men_cnt: long (nullable = true)\n",
      " |-- women_cnt: long (nullable = true)\n",
      " |-- men_share: double (nullable = true)\n",
      " |-- women_share: double (nullable = true)\n",
      "\n",
      "Total rows: 284\n",
      "+----------+----------+--------+-------+-------+---------+---------+-----------+\n",
      "|ok_city_id|rs_city_id|user_cnt|age_avg|men_cnt|women_cnt|men_share|women_share|\n",
      "+----------+----------+--------+-------+-------+---------+---------+-----------+\n",
      "|    867411|       148|     177|     39|    144|       33|     0.81|       0.19|\n",
      "|   1078547|       243|   34829|     40|  26653|     8176|     0.77|       0.23|\n",
      "|   1531654|        31|      21|     46|     16|        5|     0.76|       0.24|\n",
      "+----------+----------+--------+-------+-------+---------+---------+-----------+\n",
      "only showing top 3 rows\n",
      "\n"
     ]
    }
   ],
   "source": [
    "# city_name название города\n",
    "# user_cnt число пользователей из этого города\n",
    "# age_avg средний возраст пользователей\n",
    "\n",
    "# men_cnt число пользователей мужчин\n",
    "# women_cnt число пользователей женщин\n",
    "# men_share доля мужчин\n",
    "# women_share доля женщин (датасет ok_dem)\n",
    "\n",
    "current_date = sf.lit(current_dt).cast(types.DateType())\n",
    "age = sf.floor(sf.datediff(current_date, users_df.birth_date) / 365.25).alias('age')\n",
    "\n",
    "ok_dem_df = (\n",
    "    users_df\n",
    "    .join(citites_for_stat_df, citites_for_stat_df.ok_city_id == users_df.city_id)\n",
    "    .select(\n",
    "        citites_for_stat_df.ok_city_id,\n",
    "        citites_for_stat_df.rs_city_id,\n",
    "        users_df.user_id,\n",
    "        users_df.gender,\n",
    "        age,\n",
    "    )\n",
    "    \n",
    "    .groupBy(citites_for_stat_df.ok_city_id, citites_for_stat_df.rs_city_id)\n",
    "    .agg(\n",
    "        sf.count(users_df.user_id).alias(\"user_cnt\"),\n",
    "        sf.floor(sf.avg(sf.col(\"age\"))).alias(\"age_avg\"),\n",
    "        sf.sum(sf.when(users_df.gender == 2, 1).otherwise(0)).alias(\"men_cnt\"),\n",
    "        sf.sum(sf.when(users_df.gender == 1, 1).otherwise(0)).alias(\"women_cnt\")\n",
    "    )\n",
    "    .withColumn(\"men_share\", sf.round(sf.col(\"men_cnt\") / sf.col('user_cnt'), 2))\n",
    "    .withColumn(\"women_share\", sf.round(sf.col(\"women_cnt\") / sf.col('user_cnt'), 2))\n",
    ")\n",
    "\n",
    "ok_dem_df.show()\n",
    "show_schema(ok_dem_df)"
   ]
  },
  {
   "cell_type": "markdown",
   "metadata": {},
   "source": [
    "### 3. Из полученного датасета нужно будет выбрать города с\n",
    "- максимальным и минимальным средним возрастом\n",
    "- максимальной долей мужчин\n",
    "- максимальной долей женщин"
   ]
  },
  {
   "cell_type": "code",
   "execution_count": 22,
   "metadata": {},
   "outputs": [
    {
     "name": "stderr",
     "output_type": "stream",
     "text": [
      "                                                                                \r"
     ]
    },
    {
     "name": "stdout",
     "output_type": "stream",
     "text": [
      "Row(max_age_avg=56, min_age_avg=31, max_men_share=1.0, max_women_share=0.7)\n"
     ]
    },
    {
     "name": "stderr",
     "output_type": "stream",
     "text": [
      "[Stage 150:============================>                            (2 + 2) / 4]\r"
     ]
    },
    {
     "name": "stdout",
     "output_type": "stream",
     "text": [
      "+----------+----------+--------+-------+-------+---------+---------+-----------+\n",
      "|ok_city_id|rs_city_id|user_cnt|age_avg|men_cnt|women_cnt|men_share|women_share|\n",
      "+----------+----------+--------+-------+-------+---------+---------+-----------+\n",
      "|  12141018|       105|      86|     56|     68|       18|     0.79|       0.21|\n",
      "|  12141277|       112|     195|     31|    106|       89|     0.54|       0.46|\n",
      "|   3924702|       153|      19|     47|     19|        0|      1.0|        0.0|\n",
      "|   1593862|        88|      37|     45|     11|       26|      0.3|        0.7|\n",
      "+----------+----------+--------+-------+-------+---------+---------+-----------+\n",
      "\n"
     ]
    },
    {
     "name": "stderr",
     "output_type": "stream",
     "text": [
      "                                                                                \r"
     ]
    }
   ],
   "source": [
    "ok_dem_cities_stat_df = (\n",
    "    ok_dem_df\n",
    "    .select(\n",
    "        sf.max(ok_dem_df.age_avg).alias(\"max_age_avg\"),\n",
    "        sf.min(ok_dem_df.age_avg).alias(\"min_age_avg\"),\n",
    "        sf.max(ok_dem_df.men_share).alias(\"max_men_share\"),\n",
    "        sf.max(ok_dem_df.women_share).alias(\"max_women_share\")\n",
    "    )\n",
    "    .first()\n",
    ")\n",
    "\n",
    "# Фильтрация городов с максимальным и минимальным средним возрастом\n",
    "max_age_avg_cities = ok_dem_df.where(ok_dem_df.age_avg == ok_dem_cities_stat_df.max_age_avg)\n",
    "min_age_avg_cities = ok_dem_df.where(ok_dem_df.age_avg == ok_dem_cities_stat_df.min_age_avg)\n",
    "\n",
    "# Фильтрация городов с максимальной долей мужчин и максимальной долей женщин\n",
    "max_men_share_cities = ok_dem_df.where(ok_dem_df.men_share == ok_dem_cities_stat_df.max_men_share)\n",
    "max_women_share_cities = ok_dem_df.where(ok_dem_df.women_share == ok_dem_cities_stat_df.max_women_share)\n",
    "\n",
    "# Объединение всех фильтраций в один датафрейм\n",
    "all_filtered_cities = (\n",
    "    max_age_avg_cities\n",
    "    .unionAll(min_age_avg_cities)\n",
    "    .unionAll(max_men_share_cities)\n",
    "    .unionAll(max_women_share_cities)\n",
    "    .distinct()\n",
    ")\n",
    "\n",
    "print(ok_dem_cities_stat_df)\n",
    "all_filtered_cities.show()"
   ]
  },
  {
   "cell_type": "markdown",
   "metadata": {},
   "source": [
    "### 4. Для этих городов в данных Росстат нужно будет выбрать:\n",
    "#### Файл product_stat\n",
    "- city_name\n",
    "- cheapest_product_name самый дешевый товар\n",
    "- most_expensive_product_name самый дорогой товар\n",
    "- price_difference разницу в цене между самым дорогим и самым дешевым"
   ]
  },
  {
   "cell_type": "code",
   "execution_count": 23,
   "metadata": {},
   "outputs": [
    {
     "name": "stdout",
     "output_type": "stream",
     "text": [
      "root\n",
      " |-- ok_city_id: integer (nullable = true)\n",
      " |-- rs_city_id: integer (nullable = true)\n",
      " |-- cheapest_price: float (nullable = true)\n",
      " |-- most_expensive_price: float (nullable = true)\n",
      "\n"
     ]
    },
    {
     "name": "stderr",
     "output_type": "stream",
     "text": [
      "                                                                                \r"
     ]
    },
    {
     "name": "stdout",
     "output_type": "stream",
     "text": [
      "Total rows: 4\n",
      "+----------+----------+--------------+--------------------+\n",
      "|ok_city_id|rs_city_id|cheapest_price|most_expensive_price|\n",
      "+----------+----------+--------------+--------------------+\n",
      "|  12141277|       112|           0.6|            32120.32|\n",
      "|   1593862|        88|          0.62|           619286.56|\n",
      "|   3924702|       153|           0.7|            909922.5|\n",
      "+----------+----------+--------------+--------------------+\n",
      "only showing top 3 rows\n",
      "\n",
      "root\n",
      " |-- rs_city_id: integer (nullable = true)\n",
      " |-- cheapest_price: float (nullable = true)\n",
      " |-- cheapest_product_name: string (nullable = true)\n",
      "\n"
     ]
    },
    {
     "name": "stderr",
     "output_type": "stream",
     "text": [
      "                                                                                \r"
     ]
    },
    {
     "name": "stdout",
     "output_type": "stream",
     "text": [
      "Total rows: 4\n"
     ]
    },
    {
     "name": "stderr",
     "output_type": "stream",
     "text": [
      "                                                                                \r"
     ]
    },
    {
     "name": "stdout",
     "output_type": "stream",
     "text": [
      "+----------+--------------+---------------------+\n",
      "|rs_city_id|cheapest_price|cheapest_product_name|\n",
      "+----------+--------------+---------------------+\n",
      "|        88|          0.62| Предоставление ме...|\n",
      "|       105|          1.19|      Спички, коробок|\n",
      "|       153|           0.7| Предоставление ме...|\n",
      "+----------+--------------+---------------------+\n",
      "only showing top 3 rows\n",
      "\n",
      "root\n",
      " |-- rs_city_id: integer (nullable = true)\n",
      " |-- most_expensive_price: float (nullable = true)\n",
      " |-- most_expensive_product_name: string (nullable = true)\n",
      "\n"
     ]
    },
    {
     "name": "stderr",
     "output_type": "stream",
     "text": [
      "                                                                                \r"
     ]
    },
    {
     "name": "stdout",
     "output_type": "stream",
     "text": [
      "Total rows: 4\n"
     ]
    },
    {
     "name": "stderr",
     "output_type": "stream",
     "text": [
      "                                                                                \r"
     ]
    },
    {
     "name": "stdout",
     "output_type": "stream",
     "text": [
      "+----------+--------------------+---------------------------+\n",
      "|rs_city_id|most_expensive_price|most_expensive_product_name|\n",
      "+----------+--------------------+---------------------------+\n",
      "|        88|           619286.56|       Легковой автомоби...|\n",
      "|       112|            32120.32|       Холодильник двухк...|\n",
      "|       105|            790490.5|       Легковой автомоби...|\n",
      "+----------+--------------------+---------------------------+\n",
      "only showing top 3 rows\n",
      "\n",
      "root\n",
      " |-- city_name: string (nullable = true)\n",
      " |-- cheapest_product_name: string (nullable = true)\n",
      " |-- most_expensive_product_name: string (nullable = true)\n",
      " |-- price_difference: float (nullable = true)\n",
      "\n"
     ]
    },
    {
     "name": "stderr",
     "output_type": "stream",
     "text": [
      "                                                                                \r"
     ]
    },
    {
     "name": "stdout",
     "output_type": "stream",
     "text": [
      "Total rows: 4\n",
      "+------------+---------------------+---------------------------+----------------+\n",
      "|   city_name|cheapest_product_name|most_expensive_product_name|price_difference|\n",
      "+------------+---------------------+---------------------------+----------------+\n",
      "|      Тихвин| Предоставление ме...|       Легковой автомоби...|       619285.94|\n",
      "| Симферополь|      Спички, коробок|       Легковой автомоби...|        790489.3|\n",
      "|Новороссийск| Предоставление ме...|       Холодильник двухк...|        32119.72|\n",
      "+------------+---------------------+---------------------------+----------------+\n",
      "only showing top 3 rows\n",
      "\n"
     ]
    }
   ],
   "source": [
    "# Статистика цен на товары по городам\n",
    "city_product_stat_df = (\n",
    "    all_filtered_cities\n",
    "    .join(prices_df, prices_df.city_id == all_filtered_cities.rs_city_id, how='inner')\n",
    "    .join(products_for_stat_df, \"product_id\", how=\"inner\")\n",
    "\n",
    "    .groupBy(all_filtered_cities.ok_city_id, all_filtered_cities.rs_city_id)\n",
    "    .agg(\n",
    "        sf.min(sf.col(\"price\")).alias(\"cheapest_price\"),\n",
    "        sf.max(sf.col(\"price\")).alias(\"most_expensive_price\")\n",
    "    )\n",
    ")\n",
    "\n",
    "# Статистика цен на товары по городам\n",
    "cheapest_product_df = (\n",
    "    all_filtered_cities\n",
    "    .join(prices_df, prices_df.city_id == all_filtered_cities.rs_city_id, how='inner')\n",
    "    .join(products_for_stat_df, \"product_id\", how=\"inner\")\n",
    "\n",
    "    .join(products_df, \"product_id\", how=\"inner\")\n",
    "    .join(city_product_stat_df, \"rs_city_id\")\n",
    "    \n",
    "    .where(sf.col(\"price\") == sf.col(\"cheapest_price\"))\n",
    "    .withColumnRenamed(\"product\", \"cheapest_product_name\")\n",
    "    .select(\n",
    "        sf.col(\"rs_city_id\"),\n",
    "        sf.col(\"cheapest_price\"),\n",
    "        sf.col(\"cheapest_product_name\")\n",
    "    )\n",
    ")\n",
    "\n",
    "most_expensive_product_df = (\n",
    "    all_filtered_cities\n",
    "    .join(prices_df, prices_df.city_id == all_filtered_cities.rs_city_id, how='inner')\n",
    "    .join(products_for_stat_df, \"product_id\", how=\"inner\")\n",
    "    \n",
    "    .join(products_df, \"product_id\", how=\"inner\")\n",
    "    .join(city_product_stat_df, \"rs_city_id\")\n",
    "    \n",
    "    .where(sf.col(\"price\") == sf.col(\"most_expensive_price\"))\n",
    "    .withColumnRenamed(\"product\", \"most_expensive_product_name\")\n",
    "    .select(\n",
    "        sf.col(\"rs_city_id\"),\n",
    "        sf.col(\"most_expensive_price\"),\n",
    "        sf.col(\"most_expensive_product_name\")\n",
    "    )\n",
    ")\n",
    "\n",
    "result_df = (\n",
    "    cheapest_product_df\n",
    "    .join(most_expensive_product_df, \"rs_city_id\", how='inner')\n",
    "    .join(cities_df, sf.col(\"city_id\") == sf.col(\"rs_city_id\"))\n",
    "    .withColumn(\n",
    "        \"price_difference\",\n",
    "        sf.round(most_expensive_product_df.most_expensive_price - cheapest_product_df.cheapest_price, 2)\n",
    "    )\n",
    "    .select(\n",
    "        sf.col(\"city\").alias(\"city_name\"),\n",
    "        sf.col(\"cheapest_product_name\"),\n",
    "        sf.col(\"most_expensive_product_name\"),\n",
    "        sf.col(\"price_difference\")\n",
    "    )\n",
    ")\n",
    "\n",
    "show_schema(city_product_stat_df)\n",
    "show_schema(cheapest_product_df)\n",
    "show_schema(most_expensive_product_df)\n",
    "show_schema(result_df)"
   ]
  },
  {
   "cell_type": "markdown",
   "metadata": {},
   "source": [
    "# Сохранение результата на hdfs"
   ]
  },
  {
   "cell_type": "code",
   "execution_count": 24,
   "metadata": {},
   "outputs": [],
   "source": [
    "# Сохранение результата на hdfs\n",
    "def save_to_hdfs():\n",
    "    (price_stat_df\n",
    "     .repartition(1)\n",
    "     .sortWithinPartitions(sf.col(\"max_price\").desc())\n",
    "     .write\n",
    "     .mode(\"overwrite\")\n",
    "     .option(\"header\", \"true\")\n",
    "     .option(\"sep\", \";\")\n",
    "     .csv(f\"{output_path}/price_stat\")\n",
    "    )\n",
    "    \n",
    "    (ok_dem_df\n",
    "     .repartition(1)\n",
    "     .sortWithinPartitions(sf.col(\"user_cnt\").desc())\n",
    "     .write\n",
    "     .mode(\"overwrite\")\n",
    "     .option(\"header\", \"true\")\n",
    "     .option(\"sep\", \";\")\n",
    "     .csv(f\"{output_path}/ok_dem\")\n",
    "    )\n",
    "    \n",
    "    (result_df\n",
    "     .repartition(1)\n",
    "     .sortWithinPartitions(sf.col(\"price_difference\").desc())\n",
    "     .write\n",
    "     .mode(\"overwrite\")\n",
    "     .option(\"header\", \"true\")\n",
    "     .option(\"sep\", \";\")\n",
    "     .csv(f\"{output_path}/product_stat\")\n",
    "    )\n",
    "    \n",
    "    # Stage\n",
    "    (all_filtered_cities\n",
    "     .repartition(1)\n",
    "     .sortWithinPartitions(sf.col(\"user_cnt\").desc())\n",
    "     .write\n",
    "     .mode(\"overwrite\")\n",
    "     .option(\"header\", \"true\")\n",
    "     .option(\"sep\", \";\")\n",
    "     .csv(f\"{output_path}/stage/all_filtered_cities_v2\")\n",
    "    )\n",
    "    \n",
    "    (cheapest_product_df\n",
    "     .repartition(1)\n",
    "     .sortWithinPartitions(sf.col(\"cheapest_price\").desc())\n",
    "     .write\n",
    "     .mode(\"overwrite\")\n",
    "     .option(\"header\", \"true\")\n",
    "     .option(\"sep\", \";\")\n",
    "     .csv(f\"{output_path}/stage/most_expensive_product_df\")\n",
    "    )\n",
    "    \n",
    "    (most_expensive_product_df\n",
    "     .repartition(1)\n",
    "     .sortWithinPartitions(sf.col(\"most_expensive_price\").desc())\n",
    "     .write\n",
    "     .mode(\"overwrite\")\n",
    "     .option(\"header\", \"true\")\n",
    "     .option(\"sep\", \";\")\n",
    "     .csv(f\"{output_path}/stage/most_expensive_product_df\")\n",
    "    )"
   ]
  },
  {
   "cell_type": "code",
   "execution_count": 25,
   "metadata": {},
   "outputs": [
    {
     "name": "stderr",
     "output_type": "stream",
     "text": [
      "                                                                                \r"
     ]
    }
   ],
   "source": [
    "save_to_hdfs()"
   ]
  },
  {
   "cell_type": "code",
   "execution_count": 26,
   "metadata": {},
   "outputs": [
    {
     "name": "stdout",
     "output_type": "stream",
     "text": [
      "------Output dir-----\n",
      "Found 4 items\n",
      "drwxr-xr-x   - t.starzhevskij hadoop          0 2024-04-20 18:28 /user/t.starzhevskij/task4/ok_dem\n",
      "drwxr-xr-x   - t.starzhevskij hadoop          0 2024-04-20 18:28 /user/t.starzhevskij/task4/price_stat\n",
      "drwxr-xr-x   - t.starzhevskij hadoop          0 2024-04-20 18:28 /user/t.starzhevskij/task4/product_stat\n",
      "drwxr-xr-x   - t.starzhevskij hadoop          0 2024-04-20 18:28 /user/t.starzhevskij/task4/stage\n",
      "------Stage dir-----\n",
      "Found 3 items\n",
      "drwxr-xr-x   - t.starzhevskij hadoop          0 2024-04-20 18:28 /user/t.starzhevskij/task4/stage/all_filtered_cities_v2\n",
      "drwxr-xr-x   - t.starzhevskij hadoop          0 2024-04-16 09:49 /user/t.starzhevskij/task4/stage/filtered_cities\n",
      "drwxr-xr-x   - t.starzhevskij hadoop          0 2024-04-20 18:28 /user/t.starzhevskij/task4/stage/most_expensive_product_df\n"
     ]
    }
   ],
   "source": [
    "!echo \"------Output dir-----\"\n",
    "!hdfs dfs -ls {output_path}\n",
    "!echo \"------Stage dir-----\"\n",
    "!hdfs dfs -ls {output_path}/stage"
   ]
  },
  {
   "cell_type": "markdown",
   "metadata": {},
   "source": [
    "# Если собрать все в одном месте"
   ]
  },
  {
   "cell_type": "code",
   "execution_count": 52,
   "metadata": {},
   "outputs": [
    {
     "name": "stderr",
     "output_type": "stream",
     "text": [
      "                                                                                \r"
     ]
    }
   ],
   "source": [
    "from pyspark.sql.types import *\n",
    "import pyspark.sql.functions as sf\n",
    "from pyspark.sql import types\n",
    "\n",
    "# Read\n",
    "cities_df = (\n",
    "    spark.read\n",
    "        .option(\"header\", \"false\")\n",
    "        .option(\"sep\", \";\")\n",
    "        .csv(city_path)\n",
    ")\n",
    "\n",
    "products_df = (\n",
    "    spark.read\n",
    "        .option(\"header\", \"false\")\n",
    "        .option(\"sep\", \";\")\n",
    "        .csv(product_path)\n",
    ")\n",
    "\n",
    "prices_df = (\n",
    "    spark.read\n",
    "        .option(\"header\", \"false\")\n",
    "        .option(\"sep\", \";\")\n",
    "        .csv(prices_path)\n",
    ")\n",
    "\n",
    "products_for_stat_df = (\n",
    "    spark.read\n",
    "        .option(\"header\", \"false\")\n",
    "        .option(\"sep\", \";\")\n",
    "        .csv(products_for_stat_path)\n",
    ")\n",
    "\n",
    "# (user_id, create_date, birth_date (число дней с 1970-01-01), gender, id_country, id_city, login_region)\n",
    "users_df = (\n",
    "    spark.read\n",
    "        .option(\"header\", \"false\")\n",
    "        .option(\"sep\", \"\\t\")\n",
    "        .csv(demography_path)\n",
    ")\n",
    "\n",
    "# Справочник стран geography/countries.csv (name,id)\n",
    "countries_df = (\n",
    "    spark.read\n",
    "        .option(\"header\", \"false\")\n",
    "        .option(\"sep\", \",\")\n",
    "        .csv(country_path)\n",
    ")\n",
    "\n",
    "rs_city_df = (\n",
    "    spark.read\n",
    "        .option(\"header\", \"false\")\n",
    "        .option(\"sep\", \"\\t\")\n",
    "        .csv(rs_city_path)\n",
    ")\n",
    "\n",
    "## Приводим типы и задаем названия полей.\n",
    "cities_df = (\n",
    "    cities_df\n",
    "    .select(\n",
    "        sf.col(\"_c0\").alias(\"city\"),\n",
    "        sf.col(\"_c1\").cast(IntegerType()).alias(\"city_id\")\n",
    "    )\n",
    ")\n",
    "\n",
    "products_df = (\n",
    "    products_df\n",
    "    .select(\n",
    "        sf.col(\"_c0\").alias(\"product\"),\n",
    "        sf.col(\"_c1\").cast(IntegerType()).alias(\"product_id\")\n",
    "    )\n",
    ")\n",
    "\n",
    "prices_df = (\n",
    "    prices_df\n",
    "    .select(\n",
    "        sf.col(\"_c0\").cast(IntegerType()).alias(\"city_id\"),\n",
    "        sf.col(\"_c1\").cast(IntegerType()).alias(\"product_id\"),\n",
    "        # sf.replace(sf.col(\"_c2\"), \",\", \".\").cast(DoubleType()).alias(\"price\")\n",
    "        sf.regexp_replace(\n",
    "                    sf.col(\"_c2\"), \n",
    "                    \",\",\n",
    "                    \".\").cast(types.FloatType()).alias(\"price\")\n",
    "    )\n",
    ")\n",
    "\n",
    "products_for_stat_df = (\n",
    "    products_for_stat_df\n",
    "    .select(\n",
    "        sf.col(\"_c0\").cast(IntegerType()).alias(\"product_id\")\n",
    "    )\n",
    ")\n",
    "\n",
    "rs_city_df = (\n",
    "    rs_city_df\n",
    "    .select(\n",
    "        sf.col(\"_c0\").cast(types.IntegerType()).alias(\"ok_city_id\"),\n",
    "        sf.col(\"_c1\").cast(types.IntegerType()).alias(\"rs_city_id\"),\n",
    "    )\n",
    ")\n",
    "\n",
    "users_df = (\n",
    "    users_df\n",
    "    .select(\n",
    "        sf.col(\"_c0\").cast(types.IntegerType()).alias(\"user_id\"),\n",
    "        sf.col(\"_c1\").cast(types.LongType()).alias(\"create_date\"),\n",
    "        sf.from_unixtime(sf.col(\"_c2\") * (24 * 60 * 60)).alias('birth_date').cast(types.DateType()),\n",
    "        sf.col(\"_c2\").cast(types.LongType()).alias(\"birth_date_days\"),\n",
    "        sf.col(\"_c3\").cast(types.ShortType()).alias(\"gender\"),\n",
    "        sf.col(\"_c4\").cast(types.LongType()).alias(\"country_id\"),\n",
    "        sf.col(\"_c5\").cast(types.IntegerType()).alias(\"city_id\"),\n",
    "        sf.col(\"_c6\").cast(types.IntegerType()).alias(\"login_region\")\n",
    "    )\n",
    ")\n",
    "\n",
    "# Queries\n",
    "\n",
    "## Статистика цен на товары по городам\n",
    "price_stat_df = (\n",
    "    products_for_stat_df\n",
    "    .join(prices_df, \"product_id\", how='inner')\n",
    "    .groupBy(prices_df.product_id)\n",
    "    .agg(\n",
    "        sf.round(sf.max(prices_df.price), 2).alias(\"max_price\"),\n",
    "        sf.round(sf.min(prices_df.price), 2).alias(\"min_price\"),\n",
    "        sf.round(sf.avg(prices_df.price), 2).alias(\"avg_price\")\n",
    "    )\n",
    "    .orderBy(sf.col(\"max_price\").desc())\n",
    ")\n",
    "\n",
    "## Города с подсчетом количества продуктов, цены на которые выше средних\n",
    "citites_for_stat_df = (\n",
    "    prices_df\n",
    "    .join(price_stat_df, \"product_id\")\n",
    "    .where(prices_df.price > price_stat_df.avg_price)\n",
    "    .groupBy(prices_df.city_id)\n",
    "    .agg(\n",
    "        sf.count(prices_df.city_id).alias(\"product_cnt\")\n",
    "    )\n",
    "    .orderBy(sf.col(\"product_cnt\").desc())\n",
    "    .join(rs_city_df, rs_city_df.rs_city_id == prices_df.city_id)\n",
    "    .select(\n",
    "        sf.col(\"ok_city_id\"),\n",
    "        sf.col(\"rs_city_id\"),\n",
    "        sf.col(\"product_cnt\")\n",
    "    )\n",
    ")\n",
    "\n",
    "## Пользователи из требуемых городов со статистикой\n",
    "current_date = sf.lit(current_dt).cast(types.DateType())\n",
    "age = sf.floor(sf.datediff(current_date, users_df.birth_date) / 365.25).alias('age')\n",
    "\n",
    "ok_dem_df = (\n",
    "    users_df\n",
    "    .join(citites_for_stat_df, citites_for_stat_df.ok_city_id == users_df.city_id)\n",
    "    .select(\n",
    "        citites_for_stat_df.ok_city_id,\n",
    "        citites_for_stat_df.rs_city_id,\n",
    "        users_df.user_id,\n",
    "        users_df.gender,\n",
    "        age,\n",
    "    )\n",
    "    \n",
    "    .groupBy(citites_for_stat_df.ok_city_id, citites_for_stat_df.rs_city_id)\n",
    "    .agg(\n",
    "        sf.count(users_df.user_id).alias(\"user_cnt\"),\n",
    "        sf.floor(sf.avg(sf.col(\"age\"))).alias(\"age_avg\"),\n",
    "        sf.sum(sf.when(users_df.gender == 2, 1).otherwise(0)).alias(\"men_cnt\"),\n",
    "        sf.sum(sf.when(users_df.gender == 1, 1).otherwise(0)).alias(\"women_cnt\")\n",
    "    )\n",
    "    .withColumn(\"men_share\", sf.round(sf.col(\"men_cnt\") / sf.col('user_cnt'), 2))\n",
    "    .withColumn(\"women_share\", sf.round(sf.col(\"women_cnt\") / sf.col('user_cnt'), 2))\n",
    ")\n",
    "\n",
    "## Города, с фильтрацией условий для пользователей\n",
    "ok_dem_cities_stat_df = (\n",
    "    ok_dem_df\n",
    "    .select(\n",
    "        sf.max(ok_dem_df.age_avg).alias(\"max_age_avg\"),\n",
    "        sf.min(ok_dem_df.age_avg).alias(\"min_age_avg\"),\n",
    "        sf.max(ok_dem_df.men_share).alias(\"max_men_share\"),\n",
    "        sf.max(ok_dem_df.women_share).alias(\"max_women_share\")\n",
    "    )\n",
    "    .first()\n",
    ")\n",
    "\n",
    "# Фильтрация городов с максимальным и минимальным средним возрастом\n",
    "max_age_avg_cities = ok_dem_df.where(ok_dem_df.age_avg == ok_dem_cities_stat_df.max_age_avg)\n",
    "min_age_avg_cities = ok_dem_df.where(ok_dem_df.age_avg == ok_dem_cities_stat_df.min_age_avg)\n",
    "\n",
    "# Фильтрация городов с максимальной долей мужчин и максимальной долей женщин\n",
    "max_men_share_cities = ok_dem_df.where(ok_dem_df.men_share == ok_dem_cities_stat_df.max_men_share)\n",
    "max_women_share_cities = ok_dem_df.where(ok_dem_df.women_share == ok_dem_cities_stat_df.max_women_share)\n",
    "\n",
    "# Объединение всех фильтраций в один датафрейм\n",
    "all_filtered_cities = (\n",
    "    max_age_avg_cities\n",
    "    .unionAll(min_age_avg_cities)\n",
    "    .unionAll(max_men_share_cities)\n",
    "    .unionAll(max_women_share_cities)\n",
    "    .distinct()\n",
    ")\n",
    "\n",
    "## Статистика цен на товары по требуемым городам\n",
    "city_product_stat_df = (\n",
    "    all_filtered_cities\n",
    "    .join(prices_df, prices_df.city_id == all_filtered_cities.rs_city_id, how='inner')\n",
    "    .join(products_for_stat_df, \"product_id\", how=\"inner\")\n",
    "\n",
    "    .groupBy(all_filtered_cities.ok_city_id, all_filtered_cities.rs_city_id)\n",
    "    .agg(\n",
    "        sf.min(sf.col(\"price\")).alias(\"cheapest_price\"),\n",
    "        sf.max(sf.col(\"price\")).alias(\"most_expensive_price\")\n",
    "    )\n",
    ")\n",
    "\n",
    "cheapest_product_df = (\n",
    "    all_filtered_cities\n",
    "    .join(prices_df, prices_df.city_id == all_filtered_cities.rs_city_id, how='inner')\n",
    "    .join(products_for_stat_df, \"product_id\", how=\"inner\")\n",
    "\n",
    "    .join(products_df, \"product_id\", how=\"inner\")\n",
    "    .join(city_product_stat_df, \"rs_city_id\")\n",
    "    \n",
    "    .where(sf.col(\"price\") == sf.col(\"cheapest_price\"))\n",
    "    .withColumnRenamed(\"product\", \"cheapest_product_name\")\n",
    "    .select(\n",
    "        sf.col(\"rs_city_id\"),\n",
    "        sf.col(\"cheapest_price\"),\n",
    "        sf.col(\"cheapest_product_name\")\n",
    "    )\n",
    ")\n",
    "\n",
    "most_expensive_product_df = (\n",
    "    all_filtered_cities\n",
    "    .join(prices_df, prices_df.city_id == all_filtered_cities.rs_city_id, how='inner')\n",
    "    .join(products_for_stat_df, \"product_id\", how=\"inner\")\n",
    "    \n",
    "    .join(products_df, \"product_id\", how=\"inner\")\n",
    "    .join(city_product_stat_df, \"rs_city_id\")\n",
    "    \n",
    "    .where(sf.col(\"price\") == sf.col(\"most_expensive_price\"))\n",
    "    .withColumnRenamed(\"product\", \"most_expensive_product_name\")\n",
    "    .select(\n",
    "        sf.col(\"rs_city_id\"),\n",
    "        sf.col(\"most_expensive_price\"),\n",
    "        sf.col(\"most_expensive_product_name\")\n",
    "    )\n",
    ")\n",
    "\n",
    "result_df = (\n",
    "    cheapest_product_df\n",
    "    .join(most_expensive_product_df, \"rs_city_id\", how='inner')\n",
    "    .join(cities_df, sf.col(\"city_id\") == sf.col(\"rs_city_id\"))\n",
    "    .withColumn(\n",
    "        \"price_difference\",\n",
    "        sf.round(most_expensive_product_df.most_expensive_price - cheapest_product_df.cheapest_price, 2)\n",
    "    )\n",
    "    .select(\n",
    "        sf.col(\"city\").alias(\"city_name\"),\n",
    "        sf.col(\"cheapest_product_name\"),\n",
    "        sf.col(\"most_expensive_product_name\"),\n",
    "        sf.col(\"price_difference\")\n",
    "    )\n",
    ")"
   ]
  },
  {
   "cell_type": "code",
   "execution_count": 54,
   "metadata": {},
   "outputs": [
    {
     "name": "stdout",
     "output_type": "stream",
     "text": [
      "root\n",
      " |-- city_name: string (nullable = true)\n",
      " |-- cheapest_product_name: string (nullable = true)\n",
      " |-- most_expensive_product_name: string (nullable = true)\n",
      " |-- price_difference: float (nullable = true)\n",
      "\n",
      "Total rows: 4\n"
     ]
    },
    {
     "name": "stderr",
     "output_type": "stream",
     "text": [
      "                                                                                \r"
     ]
    },
    {
     "name": "stdout",
     "output_type": "stream",
     "text": [
      "+------------+---------------------+---------------------------+----------------+\n",
      "|   city_name|cheapest_product_name|most_expensive_product_name|price_difference|\n",
      "+------------+---------------------+---------------------------+----------------+\n",
      "|      Тихвин| Предоставление ме...|       Легковой автомоби...|       619285.94|\n",
      "| Симферополь|      Спички, коробок|       Легковой автомоби...|        790489.3|\n",
      "|Новороссийск| Предоставление ме...|       Холодильник двухк...|        32119.72|\n",
      "+------------+---------------------+---------------------------+----------------+\n",
      "only showing top 3 rows\n",
      "\n"
     ]
    },
    {
     "name": "stderr",
     "output_type": "stream",
     "text": [
      "                                                                                \r"
     ]
    }
   ],
   "source": [
    "show_schema(result_df)\n",
    "save_to_hdfs()"
   ]
  },
  {
   "cell_type": "code",
   "execution_count": 55,
   "metadata": {},
   "outputs": [
    {
     "name": "stdout",
     "output_type": "stream",
     "text": [
      "------Output dir-----\n",
      "Found 4 items\n",
      "drwxr-xr-x   - t.starzhevskij hadoop          0 2024-04-20 18:42 /user/t.starzhevskij/task4/ok_dem\n",
      "drwxr-xr-x   - t.starzhevskij hadoop          0 2024-04-20 18:42 /user/t.starzhevskij/task4/price_stat\n",
      "drwxr-xr-x   - t.starzhevskij hadoop          0 2024-04-20 18:43 /user/t.starzhevskij/task4/product_stat\n",
      "drwxr-xr-x   - t.starzhevskij hadoop          0 2024-04-20 18:43 /user/t.starzhevskij/task4/stage\n",
      "------Stage dir-----\n",
      "Found 3 items\n",
      "drwxr-xr-x   - t.starzhevskij hadoop          0 2024-04-20 18:43 /user/t.starzhevskij/task4/stage/all_filtered_cities_v2\n",
      "drwxr-xr-x   - t.starzhevskij hadoop          0 2024-04-16 09:49 /user/t.starzhevskij/task4/stage/filtered_cities\n",
      "drwxr-xr-x   - t.starzhevskij hadoop          0 2024-04-20 18:43 /user/t.starzhevskij/task4/stage/most_expensive_product_df\n"
     ]
    }
   ],
   "source": [
    "!echo \"------Output dir-----\"\n",
    "!hdfs dfs -ls {output_path}\n",
    "!echo \"------Stage dir-----\"\n",
    "!hdfs dfs -ls {output_path}/stage"
   ]
  },
  {
   "cell_type": "code",
   "execution_count": 56,
   "metadata": {},
   "outputs": [],
   "source": [
    "# После работы обязательно отключаем спарк и отдаем ресурсы!\n",
    "spark.stop()"
   ]
  }
 ],
 "metadata": {
  "kernelspec": {
   "display_name": "Python 3 (ipykernel)",
   "language": "python",
   "name": "python3"
  },
  "language_info": {
   "codemirror_mode": {
    "name": "ipython",
    "version": 3
   },
   "file_extension": ".py",
   "mimetype": "text/x-python",
   "name": "python",
   "nbconvert_exporter": "python",
   "pygments_lexer": "ipython3",
   "version": "3.10.13"
  }
 },
 "nbformat": 4,
 "nbformat_minor": 4
}
